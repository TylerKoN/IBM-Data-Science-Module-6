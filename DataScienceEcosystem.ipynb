{
 "cells": [
  {
   "cell_type": "markdown",
   "id": "05b50296-b58b-406a-9e71-5ebb498378c9",
   "metadata": {},
   "source": [
    "# Data Science Tools and Ecosystem"
   ]
  },
  {
   "cell_type": "markdown",
   "id": "cb1b708f-ab15-4f6d-bc1e-f2ac5caa8e54",
   "metadata": {},
   "source": [
    "In this notebook, Data Science Tools and Ecosystem are summarized"
   ]
  },
  {
   "cell_type": "markdown",
   "id": "49299a19-69ac-41ba-bf9e-bf3e1fd096e2",
   "metadata": {},
   "source": [
    "**Objectives:**\n",
    "- List popular languages that Data Scientists use\n",
    "- List common Data Science libraries that Data Scientist use\n",
    "- List 3 development environemnt open source tools used in data science\n",
    "- Understanding Python's arithmetic expression"
   ]
  },
  {
   "cell_type": "markdown",
   "id": "c89bc21d-c6f8-4422-aeda-575bb2965a53",
   "metadata": {},
   "source": [
    "Some of the popular languages that Data Scientists use are:\n",
    "1. Python\n",
    "2. R\n",
    "3. Java\n",
    "4. SQL\n",
    "5. Scala"
   ]
  },
  {
   "cell_type": "markdown",
   "id": "30d7d189-d3e8-46ec-8987-272c81228c5b",
   "metadata": {},
   "source": [
    "Some of the commonly used libraries used by Data Scientists include:\n",
    "1. Pandas\n",
    "2. NumPy\n",
    "3. SciPy\n",
    "4. Matplotlib\n",
    "5. Seaborn"
   ]
  },
  {
   "cell_type": "markdown",
   "id": "048b90ed-eef9-49c4-b9b2-d5bf19738581",
   "metadata": {},
   "source": [
    "| Data Science Tools |\n",
    "|--------------------|\n",
    "|Jupyter Notebook|\n",
    "|IBM Watson Studio|\n",
    "|RStudio|"
   ]
  },
  {
   "cell_type": "markdown",
   "id": "7f8c22df-bf11-4362-906d-014eae4fcdd5",
   "metadata": {},
   "source": [
    "### Below are a few examples of evaluating arithmetic expressions in Python"
   ]
  },
  {
   "cell_type": "code",
   "execution_count": 8,
   "id": "df529fd0-77ca-464f-9249-ea4345e7e0a7",
   "metadata": {},
   "outputs": [
    {
     "data": {
      "text/plain": [
       "17"
      ]
     },
     "execution_count": 8,
     "metadata": {},
     "output_type": "execute_result"
    }
   ],
   "source": [
    "#This is a simple arithmetic expression to multiply then add integers\n",
    "(3*4)+5"
   ]
  },
  {
   "cell_type": "code",
   "execution_count": 15,
   "id": "db3e73bd-ae4d-42e3-a8d0-4f5272c9d341",
   "metadata": {},
   "outputs": [
    {
     "name": "stdout",
     "output_type": "stream",
     "text": [
      "3.3333333333333335\n"
     ]
    }
   ],
   "source": [
    "#This will convert 200 minutes to hours by dividing by 60\n",
    "mintohour = 200/60\n",
    "print (mintohour)"
   ]
  },
  {
   "cell_type": "markdown",
   "id": "5812be3d-eac3-46da-9b71-66bddb6563e5",
   "metadata": {},
   "source": [
    "## Author\n",
    "Tyler Lee"
   ]
  },
  {
   "cell_type": "code",
   "execution_count": null,
   "id": "15199ca9-c85b-4286-b046-648ec962a7c9",
   "metadata": {},
   "outputs": [],
   "source": []
  }
 ],
 "metadata": {
  "kernelspec": {
   "display_name": "Python 3 (ipykernel)",
   "language": "python",
   "name": "python3"
  },
  "language_info": {
   "codemirror_mode": {
    "name": "ipython",
    "version": 3
   },
   "file_extension": ".py",
   "mimetype": "text/x-python",
   "name": "python",
   "nbconvert_exporter": "python",
   "pygments_lexer": "ipython3",
   "version": "3.12.5"
  }
 },
 "nbformat": 4,
 "nbformat_minor": 5
}
